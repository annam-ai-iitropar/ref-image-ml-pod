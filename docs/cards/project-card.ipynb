{
 "cells": [
  {
   "cell_type": "markdown",
   "id": "2b06fb1a",
   "metadata": {},
   "source": [
    "DO NOT MODIFY\n",
    "Please answer the following questions about your project/ problem."
   ]
  },
  {
   "cell_type": "markdown",
   "id": "e94f909f",
   "metadata": {
    "tags": [
     "Q"
    ]
   },
   "source": [
    "DO NOT MODIFY\n",
    "01: Background: Provide succinct background to the problem so that the reader can empathize with the problem."
   ]
  },
  {
   "cell_type": "markdown",
   "id": "6f192a39",
   "metadata": {},
   "source": [
    "DO NOT MODIFY: YOUR RESPONSE BELOW"
   ]
  },
  {
   "cell_type": "markdown",
   "id": "f6385ff8",
   "metadata": {
    "tags": [
     "Q"
    ]
   },
   "source": [
    "DO NOT MODIFY\n",
    "02: Problem: What is the problem being solved?"
   ]
  },
  {
   "cell_type": "markdown",
   "id": "2a04a92a",
   "metadata": {},
   "source": [
    "DO NOT MODIFY: YOUR RESPONSE BELOW"
   ]
  },
  {
   "cell_type": "markdown",
   "id": "3dd61fcc",
   "metadata": {
    "tags": [
     "Q"
    ]
   },
   "source": [
    "DO NOT MODIFY\n",
    "03: Customer: Who is it for? Is that a user or a beneficiary? What is the problem being solved? Who is it for?"
   ]
  },
  {
   "cell_type": "markdown",
   "id": "75847f5e",
   "metadata": {},
   "source": [
    "DO NOT MODIFY: YOUR RESPONSE BELOW"
   ]
  },
  {
   "cell_type": "markdown",
   "id": "a217b5de",
   "metadata": {
    "tags": [
     "Q"
    ]
   },
   "source": [
    "DO NOT MODIFY\n",
    "04: Value Proposition: Why does it need to be solved?"
   ]
  },
  {
   "cell_type": "markdown",
   "id": "9fb63354",
   "metadata": {},
   "source": [
    "DO NOT MODIFY: YOUR RESPONSE BELOW"
   ]
  },
  {
   "cell_type": "markdown",
   "id": "de19abee",
   "metadata": {
    "tags": [
     "Q"
    ]
   },
   "source": [
    "DO NOT MODIFY\n",
    "05: Product: What does the solution look like? It is more of the experience, rather how it will be developed."
   ]
  },
  {
   "cell_type": "markdown",
   "id": "fb96a9d2",
   "metadata": {},
   "source": [
    "DO NOT MODIFY: YOUR RESPONSE BELOW"
   ]
  },
  {
   "cell_type": "markdown",
   "id": "b242717a",
   "metadata": {
    "tags": [
     "Q"
    ]
   },
   "source": [
    "DO NOT MODIFY\n",
    "06: Objectives: Breakdown the product into key (business) objectives that need to be delivered? SMART Goals are useful to frame."
   ]
  },
  {
   "cell_type": "markdown",
   "id": "bebe6232",
   "metadata": {},
   "source": [
    "DO NOT MODIFY: YOUR RESPONSE BELOW"
   ]
  },
  {
   "cell_type": "markdown",
   "id": "20656d70",
   "metadata": {
    "tags": [
     "Q"
    ]
   },
   "source": [
    "DO NOT MODIFY\n",
    "07: Risks and Challenges: What are the challenges one can face and ways to overcome?"
   ]
  },
  {
   "cell_type": "markdown",
   "id": "5cb9fc47",
   "metadata": {},
   "source": [
    "DO NOT MODIFY: YOUR RESPONSE BELOW"
   ]
  },
  {
   "cell_type": "markdown",
   "id": "ff2de2c5",
   "metadata": {
    "tags": [
     "Q"
    ]
   },
   "source": [
    "DO NOT MODIFY\n",
    "08: Task: What type of prediction problem is this? Link Model Card(optional)."
   ]
  },
  {
   "cell_type": "markdown",
   "id": "a8c84bb5",
   "metadata": {},
   "source": [
    "DO NOT MODIFY: YOUR RESPONSE BELOW"
   ]
  },
  {
   "cell_type": "markdown",
   "id": "b797fc13",
   "metadata": {
    "tags": [
     "Q"
    ]
   },
   "source": [
    "DO NOT MODIFY\n",
    "09: Metrics: How will the solution be evaluated - What are the ML metrics? What are the business metrics?"
   ]
  },
  {
   "cell_type": "markdown",
   "id": "fb1ef5b9",
   "metadata": {},
   "source": [
    "DO NOT MODIFY: YOUR RESPONSE BELOW"
   ]
  },
  {
   "cell_type": "markdown",
   "id": "7826cafd",
   "metadata": {
    "tags": [
     "Q"
    ]
   },
   "source": [
    "DO NOT MODIFY\n",
    "10: Evaluation: How will the solution be evaluated (process)?"
   ]
  },
  {
   "cell_type": "markdown",
   "id": "780b8e32",
   "metadata": {},
   "source": [
    "DO NOT MODIFY: YOUR RESPONSE BELOW"
   ]
  },
  {
   "cell_type": "markdown",
   "id": "ab203995",
   "metadata": {
    "tags": [
     "Q"
    ]
   },
   "source": [
    "DO NOT MODIFY\n",
    "11: Data: What type of data is needed? How will it be collected - for training and for continuous improvement? Link Data Cards (optional)."
   ]
  },
  {
   "cell_type": "markdown",
   "id": "6cd0afa6",
   "metadata": {},
   "source": [
    "DO NOT MODIFY: YOUR RESPONSE BELOW"
   ]
  },
  {
   "cell_type": "markdown",
   "id": "e8bd6d15",
   "metadata": {
    "tags": [
     "Q"
    ]
   },
   "source": [
    "DO NOT MODIFY\n",
    "12: Plan/Roadmap: Provide problem break-up, tentative timelines and deliverables? Use PACT format if SMART is not suitable."
   ]
  },
  {
   "cell_type": "markdown",
   "id": "3b334310",
   "metadata": {},
   "source": [
    "DO NOT MODIFY: YOUR RESPONSE BELOW"
   ]
  },
  {
   "cell_type": "markdown",
   "id": "25a79fb8",
   "metadata": {
    "tags": [
     "Q"
    ]
   },
   "source": [
    "DO NOT MODIFY\n",
    "13: Continuous Improvement: How will the system/model improve? Provide a plan and means."
   ]
  },
  {
   "cell_type": "markdown",
   "id": "0a207621",
   "metadata": {},
   "source": [
    "DO NOT MODIFY: YOUR RESPONSE BELOW"
   ]
  },
  {
   "cell_type": "markdown",
   "id": "e60e9e79",
   "metadata": {
    "tags": [
     "Q"
    ]
   },
   "source": [
    "DO NOT MODIFY\n",
    "14: Resources-Human: what type of team and strength needed?"
   ]
  },
  {
   "cell_type": "markdown",
   "id": "1c194dc7",
   "metadata": {},
   "source": [
    "DO NOT MODIFY: YOUR RESPONSE BELOW"
   ]
  },
  {
   "cell_type": "markdown",
   "id": "4ea03df2",
   "metadata": {
    "tags": [
     "Q"
    ]
   },
   "source": [
    "DO NOT MODIFY\n",
    "15: Resources-Compute: What type of compute resources needed to train and serve?"
   ]
  },
  {
   "cell_type": "markdown",
   "id": "61d56e57",
   "metadata": {},
   "source": [
    "DO NOT MODIFY: YOUR RESPONSE BELOW"
   ]
  }
 ],
 "metadata": {
  "language_info": {
   "name": "python"
  }
 },
 "nbformat": 4,
 "nbformat_minor": 5
}
